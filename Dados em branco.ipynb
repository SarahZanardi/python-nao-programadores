{
 "cells": [
  {
   "cell_type": "code",
   "execution_count": null,
   "metadata": {},
   "outputs": [
    {
     "name": "stdout",
     "output_type": "stream",
     "text": [
      "0    linha 1\n",
      "1    linha 2\n",
      "2        NaN\n",
      "3    linha 4\n",
      "4        NaN\n",
      "5    linha 6\n",
      "dtype: object\n"
     ]
    }
   ],
   "source": [
    "#Valores em Brancos em python \n",
    "#NaN valores em branco\n",
    "import numpy as np\n",
    "import pandas as pd\n",
    "\n",
    "# Criando uma série com valores em branco (NaN)\n",
    "em_branco = np.nan\n",
    "serie = pd.Series(['linha 1', 'linha 2', em_branco, 'linha 4', em_branco, 'linha 6'])\n",
    "\n",
    "print(serie)\n",
    "\n",
    "\n",
    "\n"
   ]
  },
  {
   "cell_type": "code",
   "execution_count": 5,
   "metadata": {},
   "outputs": [
    {
     "data": {
      "text/plain": [
       "0    False\n",
       "1    False\n",
       "2     True\n",
       "3    False\n",
       "4     True\n",
       "5    False\n",
       "dtype: bool"
      ]
     },
     "execution_count": 5,
     "metadata": {},
     "output_type": "execute_result"
    }
   ],
   "source": [
    "serie.isnull()"
   ]
  },
  {
   "cell_type": "code",
   "execution_count": 9,
   "metadata": {},
   "outputs": [
    {
     "name": "stdout",
     "output_type": "stream",
     "text": [
      "0    linha 1\n",
      "1    linha 2\n",
      "2        NaN\n",
      "3    linha 4\n",
      "4        NaN\n",
      "5    linha 6\n",
      "dtype: object\n"
     ]
    }
   ],
   "source": [
    "import numpy as np\n",
    "import pandas as pd\n",
    "\n",
    "# Criando uma série com valores em branco (NaN)\n",
    "em_branco = np.nan\n",
    "serie = pd.Series(['linha 1', 'linha 2', em_branco, 'linha 4', em_branco, 'linha 6'])\n",
    "\n",
    "print(serie)\n"
   ]
  }
 ],
 "metadata": {
  "kernelspec": {
   "display_name": "chatbotpython",
   "language": "python",
   "name": "python3"
  },
  "language_info": {
   "codemirror_mode": {
    "name": "ipython",
    "version": 3
   },
   "file_extension": ".py",
   "mimetype": "text/x-python",
   "name": "python",
   "nbconvert_exporter": "python",
   "pygments_lexer": "ipython3",
   "version": "3.6.13"
  }
 },
 "nbformat": 4,
 "nbformat_minor": 2
}
